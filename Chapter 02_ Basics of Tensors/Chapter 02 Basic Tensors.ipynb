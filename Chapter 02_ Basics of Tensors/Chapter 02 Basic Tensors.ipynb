{
 "cells": [
  {
   "cell_type": "markdown",
   "metadata": {},
   "source": [
    "### Introductions to Tensors"
   ]
  },
  {
   "cell_type": "code",
   "execution_count": 2,
   "metadata": {},
   "outputs": [],
   "source": [
    "import torch"
   ]
  },
  {
   "cell_type": "code",
   "execution_count": 3,
   "metadata": {},
   "outputs": [
    {
     "name": "stdout",
     "output_type": "stream",
     "text": [
      "Scalar Data Points: 4\n"
     ]
    }
   ],
   "source": [
    "# Creating 0 Dimentional Data\n",
    "scalar_data = torch.tensor(4)\n",
    "print(f\"Scalar Data Points: {scalar_data}\")"
   ]
  },
  {
   "cell_type": "code",
   "execution_count": 7,
   "metadata": {},
   "outputs": [
    {
     "name": "stdout",
     "output_type": "stream",
     "text": [
      "Vector Data Points: \n",
      "tensor([1, 2, 3])\n"
     ]
    }
   ],
   "source": [
    "# Creating 1 Dimentional Data Called Vector\n",
    "vector_data = torch.tensor([1, 2, 3])\n",
    "print(f\"Vector Data Points: \\n{vector_data}\")"
   ]
  },
  {
   "cell_type": "code",
   "execution_count": 6,
   "metadata": {},
   "outputs": [
    {
     "name": "stdout",
     "output_type": "stream",
     "text": [
      "Matirx Data Points: \n",
      "tensor([[1, 2, 3],\n",
      "        [4, 5, 6]])\n"
     ]
    }
   ],
   "source": [
    "# Creating 2 Dimentional Data Called Matrix\n",
    "matrix_data = torch.tensor([[1, 2, 3],\n",
    "                            [4, 5, 6]])\n",
    "print(f\"Matirx Data Points: \\n{matrix_data}\")"
   ]
  },
  {
   "cell_type": "code",
   "execution_count": 8,
   "metadata": {},
   "outputs": [
    {
     "name": "stdout",
     "output_type": "stream",
     "text": [
      "Tensor Data Points: \n",
      "tensor([[[1, 2, 3],\n",
      "         [4, 5, 6]],\n",
      "\n",
      "        [[1, 2, 3],\n",
      "         [7, 8, 9]]])\n"
     ]
    }
   ],
   "source": [
    "# Creating Multi Dimentional Data Called Tensor\n",
    "tensor_data = torch.tensor([[[1, 2, 3],\n",
    "                            [4, 5, 6]], \n",
    "                            [[1, 2, 3], [7, 8, 9]]])\n",
    "print(f\"Tensor Data Points: \\n{tensor_data}\")"
   ]
  },
  {
   "cell_type": "markdown",
   "metadata": {},
   "source": [
    "### Manipulate The Tensor Data "
   ]
  },
  {
   "cell_type": "code",
   "execution_count": 9,
   "metadata": {},
   "outputs": [
    {
     "ename": "TypeError",
     "evalue": "tensor() takes 1 positional argument but 2 were given",
     "output_type": "error",
     "traceback": [
      "\u001b[1;31m---------------------------------------------------------------------------\u001b[0m",
      "\u001b[1;31mTypeError\u001b[0m                                 Traceback (most recent call last)",
      "\u001b[1;32mc:\\Users\\Bytes\\Desktop\\Chapter 02 Basic Tensors.ipynb Cell 8\u001b[0m line \u001b[0;36m2\n\u001b[0;32m      <a href='vscode-notebook-cell:/c%3A/Users/Bytes/Desktop/Chapter%2002%20Basic%20Tensors.ipynb#W6sZmlsZQ%3D%3D?line=0'>1</a>\u001b[0m \u001b[39m# Creating 0 Dimentional Data\u001b[39;00m\n\u001b[1;32m----> <a href='vscode-notebook-cell:/c%3A/Users/Bytes/Desktop/Chapter%2002%20Basic%20Tensors.ipynb#W6sZmlsZQ%3D%3D?line=1'>2</a>\u001b[0m scalar_data \u001b[39m=\u001b[39m torch\u001b[39m.\u001b[39;49mtensor(\u001b[39m4\u001b[39;49m, \u001b[39m2\u001b[39;49m)\n\u001b[0;32m      <a href='vscode-notebook-cell:/c%3A/Users/Bytes/Desktop/Chapter%2002%20Basic%20Tensors.ipynb#W6sZmlsZQ%3D%3D?line=2'>3</a>\u001b[0m \u001b[39mprint\u001b[39m(\u001b[39mf\u001b[39m\u001b[39m\"\u001b[39m\u001b[39mScalar Data Points: \u001b[39m\u001b[39m{\u001b[39;00mscalar_data\u001b[39m}\u001b[39;00m\u001b[39m\"\u001b[39m)\n",
      "\u001b[1;31mTypeError\u001b[0m: tensor() takes 1 positional argument but 2 were given"
     ]
    }
   ],
   "source": [
    "# Creating 0 Dimentional Data\n",
    "scalar_data = torch.tensor(4, 2)\n",
    "print(f\"Scalar Data Points: {scalar_data}\")"
   ]
  },
  {
   "cell_type": "markdown",
   "metadata": {},
   "source": [
    "### Creating a new shapes tensor with 0 value"
   ]
  },
  {
   "cell_type": "code",
   "execution_count": 11,
   "metadata": {},
   "outputs": [
    {
     "name": "stdout",
     "output_type": "stream",
     "text": [
      "Scalar Data Points: \n",
      "tensor([[0., 0.],\n",
      "        [0., 0.],\n",
      "        [0., 0.],\n",
      "        [0., 0.]])\n"
     ]
    }
   ],
   "source": [
    "# Creating a new shapes tensor with 0 value\n",
    "scalar_data = torch.zeros(4, 2) # (Row , Column)\n",
    "print(f\"Scalar Data Points: \\n{scalar_data}\")"
   ]
  },
  {
   "cell_type": "markdown",
   "metadata": {},
   "source": [
    "### Creating a new shapes tensor with 1 value"
   ]
  },
  {
   "cell_type": "code",
   "execution_count": 12,
   "metadata": {},
   "outputs": [
    {
     "name": "stdout",
     "output_type": "stream",
     "text": [
      "Scalar Data Points: \n",
      "tensor([[1., 1.],\n",
      "        [1., 1.],\n",
      "        [1., 1.],\n",
      "        [1., 1.]])\n"
     ]
    }
   ],
   "source": [
    "# Creating a new shapes tensor with 1 value\n",
    "scalar_data = torch.ones(4, 2) # (Row , Column)\n",
    "print(f\"Scalar Data Points: \\n{scalar_data}\")"
   ]
  },
  {
   "cell_type": "markdown",
   "metadata": {},
   "source": [
    "### Creating a new shapes tensor with random value"
   ]
  },
  {
   "cell_type": "code",
   "execution_count": 13,
   "metadata": {},
   "outputs": [
    {
     "name": "stdout",
     "output_type": "stream",
     "text": [
      "Scalar Data Points: \n",
      "tensor([[0.6990, 0.0885],\n",
      "        [0.3996, 0.8190],\n",
      "        [0.3960, 0.4886],\n",
      "        [0.4186, 0.4839]])\n"
     ]
    }
   ],
   "source": [
    "# Creating a new shapes tensor with random value\n",
    "scalar_data = torch.rand(4, 2) # (Row , Column)\n",
    "print(f\"Scalar Data Points: \\n{scalar_data}\")"
   ]
  },
  {
   "cell_type": "code",
   "execution_count": 14,
   "metadata": {},
   "outputs": [
    {
     "name": "stdout",
     "output_type": "stream",
     "text": [
      "Scalar Data Points: \n",
      "tensor([[0.9464, 0.5499],\n",
      "        [0.2402, 0.0534],\n",
      "        [0.8821, 0.9450],\n",
      "        [0.3887, 0.9854]])\n"
     ]
    }
   ],
   "source": [
    "# Creating a new shapes tensor with random value\n",
    "scalar_data = torch.rand(4, 2) # (Row , Column)\n",
    "print(f\"Scalar Data Points: \\n{scalar_data}\")"
   ]
  },
  {
   "cell_type": "markdown",
   "metadata": {},
   "source": [
    "### Find out the total number of elements in Tensor"
   ]
  },
  {
   "cell_type": "code",
   "execution_count": 19,
   "metadata": {},
   "outputs": [
    {
     "name": "stdout",
     "output_type": "stream",
     "text": [
      "Scalar Data Points: \n",
      "tensor([[0.2202, 0.1945, 0.0445, 0.0577],\n",
      "        [0.4244, 0.4581, 0.3506, 0.4439],\n",
      "        [0.3591, 0.2826, 0.2323, 0.2031],\n",
      "        [0.7264, 0.0213, 0.2623, 0.8033]])\n",
      "\n",
      "Shape of the random generated tensor: torch.Size([4, 4])\n",
      "Total Number of elements in Tensor: 16\n"
     ]
    }
   ],
   "source": [
    "# Creating a new shapes tensor with random value\n",
    "scalar_data = torch.rand(4, 4) # (Row , Column)\n",
    "print(f\"Scalar Data Points: \\n{scalar_data}\")\n",
    "print(f\"\\nShape of the random generated tensor: {scalar_data.shape}\")\n",
    "print(f\"Total Number of elements in Tensor: {scalar_data.numel()}\")"
   ]
  },
  {
   "cell_type": "markdown",
   "metadata": {},
   "source": [
    "### Reshape the Tensor Values"
   ]
  },
  {
   "cell_type": "code",
   "execution_count": 21,
   "metadata": {},
   "outputs": [
    {
     "name": "stdout",
     "output_type": "stream",
     "text": [
      "---------------before Reshape-----------------\n",
      "Scalar Data Points: \n",
      "tensor([[0.6056, 0.8908],\n",
      "        [0.0488, 0.3352],\n",
      "        [0.6483, 0.6314],\n",
      "        [0.6118, 0.2253]])\n",
      "---------------After Reshape-----------------\n",
      "Scalar Data Points After Reshape: \n",
      "tensor([[0.6056, 0.8908, 0.0488, 0.3352],\n",
      "        [0.6483, 0.6314, 0.6118, 0.2253]])\n"
     ]
    }
   ],
   "source": [
    "# Creating a new shapes tensor with random value\n",
    "scalar_data = torch.rand(4, 2) # (Row , Column)\\\n",
    "print(\"---------------before Reshape-----------------\")\n",
    "print(f\"Scalar Data Points: \\n{scalar_data}\")\n",
    "print(\"---------------After Reshape-----------------\")\n",
    "scalar_data = scalar_data.view(2, 4)\n",
    "print(f\"Scalar Data Points After Reshape: \\n{scalar_data}\")"
   ]
  },
  {
   "cell_type": "markdown",
   "metadata": {},
   "source": [
    "### Slice the Tensor Values"
   ]
  },
  {
   "cell_type": "code",
   "execution_count": 22,
   "metadata": {},
   "outputs": [
    {
     "name": "stdout",
     "output_type": "stream",
     "text": [
      "---------------before Slice-----------------\n",
      "Scalar Data Points: \n",
      "tensor([[0.0869, 0.9113],\n",
      "        [0.1998, 0.1746],\n",
      "        [0.9621, 0.8479],\n",
      "        [0.2662, 0.8936]])\n",
      "---------------After Slice-----------------\n",
      "Scalar Data Points After Slice: \n",
      "tensor([0.9113])\n"
     ]
    }
   ],
   "source": [
    "# Creating a new shapes tensor with random value\n",
    "scalar_data = torch.rand(4, 2) # (Row , Column)\\\n",
    "print(\"---------------before Slice-----------------\")\n",
    "print(f\"Scalar Data Points: \\n{scalar_data}\")\n",
    "print(\"---------------After Slice-----------------\")\n",
    "scalar_data = scalar_data[0, 1:3]\n",
    "print(f\"Scalar Data Points After Slice: \\n{scalar_data}\")"
   ]
  },
  {
   "cell_type": "markdown",
   "metadata": {},
   "source": [
    "## <center>Home Work - 01</center>\n",
    "### Find out the 6th Value of the Tensor using the slice method\n",
    "```python\n",
    "scalar_data = torch.rand(4, 2) # (Row , Column)\\\n",
    "print(\"---------------before Slice-----------------\")\n",
    "print(f\"Scalar Data Points: \\n{scalar_data}\")\n",
    "print(\"---------------After Slice-----------------\")\n",
    "scalar_data = scalar_data[0, 1:3]\n",
    "print(f\"Scalar Data Points After Slice: \\n{scalar_data}\")\n",
    "```"
   ]
  },
  {
   "cell_type": "markdown",
   "metadata": {},
   "source": [
    "<center><h3> Tensor Operations</h3></center>"
   ]
  },
  {
   "cell_type": "code",
   "execution_count": 24,
   "metadata": {},
   "outputs": [],
   "source": [
    "# Taking the Tensor Values\n",
    "tensor_value_01 = torch.tensor([[1, 2], [3, 4]])\n",
    "tensor_value_02 = torch.tensor([[3, 4], [1, 2]])"
   ]
  },
  {
   "cell_type": "markdown",
   "metadata": {},
   "source": [
    "### 01. Tensor Addition"
   ]
  },
  {
   "cell_type": "code",
   "execution_count": 25,
   "metadata": {},
   "outputs": [
    {
     "name": "stdout",
     "output_type": "stream",
     "text": [
      "Tensor Addition Result: \n",
      "tensor([[4, 6],\n",
      "        [4, 6]])\n"
     ]
    }
   ],
   "source": [
    "addition = tensor_value_01  + tensor_value_02\n",
    "print(f\"Tensor Addition Result: \\n{addition}\")"
   ]
  },
  {
   "cell_type": "code",
   "execution_count": 29,
   "metadata": {},
   "outputs": [
    {
     "name": "stdout",
     "output_type": "stream",
     "text": [
      "Tensor Multiplication Result: \n",
      "tensor([[3, 8],\n",
      "        [3, 8]])\n"
     ]
    }
   ],
   "source": [
    "multiplication = tensor_value_01  * tensor_value_02\n",
    "print(f\"Tensor Multiplication Result: \\n{multiplication}\")"
   ]
  },
  {
   "cell_type": "code",
   "execution_count": 27,
   "metadata": {},
   "outputs": [
    {
     "name": "stdout",
     "output_type": "stream",
     "text": [
      "Tensor Divition Result: \n",
      "tensor([[0.3333, 0.5000],\n",
      "        [3.0000, 2.0000]])\n"
     ]
    }
   ],
   "source": [
    "divition = tensor_value_01  / tensor_value_02\n",
    "print(f\"Tensor Divition Result: \\n{divition}\")"
   ]
  },
  {
   "cell_type": "code",
   "execution_count": 28,
   "metadata": {},
   "outputs": [
    {
     "name": "stdout",
     "output_type": "stream",
     "text": [
      "Tensor Multiplication Result: \n",
      "tensor([[ 5,  8],\n",
      "        [13, 20]])\n"
     ]
    }
   ],
   "source": [
    "multiplication = torch.mm(tensor_value_01, tensor_value_02)\n",
    "print(f\"Tensor Multiplication Result: \\n{multiplication}\")"
   ]
  },
  {
   "cell_type": "code",
   "execution_count": 30,
   "metadata": {},
   "outputs": [
    {
     "name": "stdout",
     "output_type": "stream",
     "text": [
      "Tensor Transpose Result: \n",
      "tensor([[1, 3],\n",
      "        [2, 4]])\n"
     ]
    }
   ],
   "source": [
    "transpose = torch.t(tensor_value_01)\n",
    "print(f\"Tensor Transpose Result: \\n{transpose}\")"
   ]
  },
  {
   "cell_type": "markdown",
   "metadata": {},
   "source": [
    "<center><h3>Broadcasting </h3></center>"
   ]
  },
  {
   "cell_type": "code",
   "execution_count": 32,
   "metadata": {},
   "outputs": [
    {
     "name": "stdout",
     "output_type": "stream",
     "text": [
      "Broadcast Result: \n",
      "tensor([[6, 7],\n",
      "        [8, 9]])\n"
     ]
    }
   ],
   "source": [
    "# Broadcast\n",
    "tensor_value_01 = torch.tensor([[1, 2], [3, 4]])\n",
    "scalar = 5\n",
    "addition_with_broadcast = tensor_value_01 + scalar\n",
    "print(f\"Broadcast Result: \\n{addition_with_broadcast}\")"
   ]
  },
  {
   "cell_type": "markdown",
   "metadata": {},
   "source": [
    "<center><h3>GPU Acceleration</h3></center>"
   ]
  },
  {
   "cell_type": "code",
   "execution_count": 34,
   "metadata": {},
   "outputs": [
    {
     "name": "stdout",
     "output_type": "stream",
     "text": [
      "Calculations Starting With GPU Accelerations\n",
      "tensor([[1, 2],\n",
      "        [3, 4]], device='cuda:0')\n"
     ]
    }
   ],
   "source": [
    "tensor_value_01 = torch.tensor([[1, 2], [3, 4]])\n",
    "if torch.cuda.is_available():\n",
    "    device = torch.device(\"cuda\")\n",
    "    calculation_on_gpu = tensor_value_01.to(device)\n",
    "    print(\"Calculations Starting With GPU Accelerations\")\n",
    "    print(calculation_on_gpu)\n",
    "else:\n",
    "    print(\"GPU is not available\")"
   ]
  },
  {
   "cell_type": "markdown",
   "metadata": {},
   "source": [
    "<center><h3>Pattern Convet Between Numpy and Pytorch</h3></center>"
   ]
  },
  {
   "cell_type": "code",
   "execution_count": 35,
   "metadata": {},
   "outputs": [
    {
     "name": "stdout",
     "output_type": "stream",
     "text": [
      "Before the Conversion The array is :\n",
      "[1 2 3]\n",
      "\n",
      "After the Conversion the array from Numpy to torch: \n",
      "tensor([1, 2, 3], dtype=torch.int32)\n"
     ]
    }
   ],
   "source": [
    "#Step 01: Creating Numpy array \n",
    "import numpy as np\n",
    "array_01 = np.array([1, 2, 3])\n",
    "torch_array = torch.from_numpy(array_01)\n",
    "print(f\"Before the Conversion The array is :\\n{array_01}\")\n",
    "print(f\"\\nAfter the Conversion the array from Numpy to torch: \\n{torch_array}\")"
   ]
  },
  {
   "cell_type": "code",
   "execution_count": 36,
   "metadata": {},
   "outputs": [
    {
     "name": "stdout",
     "output_type": "stream",
     "text": [
      "Before the Conversion The array is :\n",
      "tensor([1, 2, 3])\n",
      "\n",
      "After the Conversion the array from  torch to Numpy: \n",
      "[1 2 3]\n"
     ]
    }
   ],
   "source": [
    "#Step 01: Creating Numpy array \n",
    "import numpy as np\n",
    "array_01 = torch.tensor([1, 2, 3])\n",
    "torch_array = array_01.numpy()\n",
    "print(f\"Before the Conversion The array is :\\n{array_01}\")\n",
    "print(f\"\\nAfter the Conversion the array from  torch to Numpy: \\n{torch_array}\")"
   ]
  },
  {
   "cell_type": "markdown",
   "metadata": {},
   "source": [
    "<center><h3>Saveing Pytorch Value </h3></center>"
   ]
  },
  {
   "cell_type": "code",
   "execution_count": 37,
   "metadata": {},
   "outputs": [],
   "source": [
    "torch.save(tensor_value_01, \"TensorValue.pt\")"
   ]
  },
  {
   "cell_type": "code",
   "execution_count": 38,
   "metadata": {},
   "outputs": [
    {
     "name": "stdout",
     "output_type": "stream",
     "text": [
      "Loaded Tensor Data: \n",
      "tensor([[1, 2],\n",
      "        [3, 4]])\n"
     ]
    }
   ],
   "source": [
    "# Load the saved file form the local folder\n",
    "load_tensor_value =torch.load(\"TensorValue.pt\")\n",
    "print(f\"Loaded Tensor Data: \\n{load_tensor_value}\")"
   ]
  },
  {
   "cell_type": "code",
   "execution_count": null,
   "metadata": {},
   "outputs": [],
   "source": []
  },
  {
   "cell_type": "code",
   "execution_count": null,
   "metadata": {},
   "outputs": [],
   "source": []
  }
 ],
 "metadata": {
  "kernelspec": {
   "display_name": "pytorch",
   "language": "python",
   "name": "python3"
  },
  "language_info": {
   "codemirror_mode": {
    "name": "ipython",
    "version": 3
   },
   "file_extension": ".py",
   "mimetype": "text/x-python",
   "name": "python",
   "nbconvert_exporter": "python",
   "pygments_lexer": "ipython3",
   "version": "3.9.18"
  }
 },
 "nbformat": 4,
 "nbformat_minor": 2
}
